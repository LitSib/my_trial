{
 "cells": [
  {
   "cell_type": "code",
   "execution_count": 78,
   "id": "entertaining-spank",
   "metadata": {},
   "outputs": [],
   "source": [
    "import pandas as pd\n",
    "import seaborn as sns\n",
    "import matplotlib.pyplot as plt\n",
    "\n",
    "%matplotlib inline"
   ]
  },
  {
   "cell_type": "code",
   "execution_count": 2,
   "id": "proprietary-traveler",
   "metadata": {},
   "outputs": [],
   "source": [
    "df = pd.read_csv('https://stepik.org/media/attachments/lesson/375666/lesson_3_data.csv', encoding='windows-1251')"
   ]
  },
  {
   "cell_type": "code",
   "execution_count": 3,
   "id": "painted-client",
   "metadata": {},
   "outputs": [],
   "source": [
    "user_df = df[['tc', 'art_sp']]"
   ]
  },
  {
   "cell_type": "code",
   "execution_count": 5,
   "id": "brief-sterling",
   "metadata": {},
   "outputs": [],
   "source": [
    "user_df = user_df.rename(columns={'tc':'user_id', 'art_sp':'brand_info'})"
   ]
  },
  {
   "cell_type": "code",
   "execution_count": 7,
   "id": "humanitarian-vacation",
   "metadata": {},
   "outputs": [],
   "source": [
    "def split_column(split_name):\n",
    "    return split_name.split(' ')[-1]"
   ]
  },
  {
   "cell_type": "code",
   "execution_count": 8,
   "id": "military-fever",
   "metadata": {},
   "outputs": [],
   "source": [
    "user_df['brand_name'] = user_df.brand_info.apply(lambda x: x.split(' ')[-1])"
   ]
  },
  {
   "cell_type": "code",
   "execution_count": 50,
   "id": "close-grade",
   "metadata": {},
   "outputs": [],
   "source": [
    "user_purchases = user_df.groupby('user_id', as_index=False) \\\n",
    "    .agg({'brand_name':'count'}) \\\n",
    "    .rename(columns={'brand_name':'purchases'}) \\\n",
    "    .query('purchases>=5')"
   ]
  },
  {
   "cell_type": "code",
   "execution_count": 51,
   "id": "infinite-domain",
   "metadata": {},
   "outputs": [],
   "source": [
    "user_unique_brands = user_df.groupby('user_id', as_index=False) \\\n",
    "    .agg({'brand_name':'nunique'}) \\\n",
    "    .rename(columns={'brand_name':'unique_brands'})"
   ]
  },
  {
   "cell_type": "code",
   "execution_count": 52,
   "id": "confused-blank",
   "metadata": {},
   "outputs": [],
   "source": [
    "lovely_brand_purchases_df = user_df.groupby(['user_id', 'brand_name'], as_index=False) \\\n",
    "    .agg({'brand_info':'count'}) \\\n",
    "    .sort_values(['user_id', 'brand_info'], ascending=[False, False]) \\\n",
    "    .groupby('user_id') \\\n",
    "    .head(1) \\\n",
    "    .rename(columns={'brand_name':'lovely_brand', 'brand_info':'lovely_brand_purchases'})"
   ]
  },
  {
   "cell_type": "code",
   "execution_count": 56,
   "id": "animal-referral",
   "metadata": {},
   "outputs": [],
   "source": [
    "loyalty_df = user_purchases.merge(user_unique_brands, on='user_id') \\\n",
    "    .merge(lovely_brand_purchases_df, on='user_id')"
   ]
  },
  {
   "cell_type": "code",
   "execution_count": 63,
   "id": "listed-links",
   "metadata": {},
   "outputs": [],
   "source": [
    "loyal_users = loyalty_df[loyalty_df.unique_brands == 1].sort_values('purchases', ascending=False)"
   ]
  },
  {
   "cell_type": "code",
   "execution_count": 64,
   "id": "joined-saver",
   "metadata": {},
   "outputs": [
    {
     "data": {
      "text/html": [
       "<div>\n",
       "<style scoped>\n",
       "    .dataframe tbody tr th:only-of-type {\n",
       "        vertical-align: middle;\n",
       "    }\n",
       "\n",
       "    .dataframe tbody tr th {\n",
       "        vertical-align: top;\n",
       "    }\n",
       "\n",
       "    .dataframe thead th {\n",
       "        text-align: right;\n",
       "    }\n",
       "</style>\n",
       "<table border=\"1\" class=\"dataframe\">\n",
       "  <thead>\n",
       "    <tr style=\"text-align: right;\">\n",
       "      <th></th>\n",
       "      <th>user_id</th>\n",
       "      <th>purchases</th>\n",
       "      <th>unique_brands</th>\n",
       "      <th>lovely_brand</th>\n",
       "      <th>lovely_brand_purchases</th>\n",
       "    </tr>\n",
       "  </thead>\n",
       "  <tbody>\n",
       "    <tr>\n",
       "      <th>1315</th>\n",
       "      <td>19317282</td>\n",
       "      <td>55</td>\n",
       "      <td>1</td>\n",
       "      <td>Brand_4</td>\n",
       "      <td>55</td>\n",
       "    </tr>\n",
       "    <tr>\n",
       "      <th>1652</th>\n",
       "      <td>27291281</td>\n",
       "      <td>36</td>\n",
       "      <td>1</td>\n",
       "      <td>Brand_4</td>\n",
       "      <td>36</td>\n",
       "    </tr>\n",
       "    <tr>\n",
       "      <th>1407</th>\n",
       "      <td>20835112</td>\n",
       "      <td>27</td>\n",
       "      <td>1</td>\n",
       "      <td>Brand_4</td>\n",
       "      <td>27</td>\n",
       "    </tr>\n",
       "    <tr>\n",
       "      <th>2330</th>\n",
       "      <td>72232811</td>\n",
       "      <td>25</td>\n",
       "      <td>1</td>\n",
       "      <td>Brand_4</td>\n",
       "      <td>25</td>\n",
       "    </tr>\n",
       "    <tr>\n",
       "      <th>1937</th>\n",
       "      <td>38450591</td>\n",
       "      <td>24</td>\n",
       "      <td>1</td>\n",
       "      <td>Brand_4</td>\n",
       "      <td>24</td>\n",
       "    </tr>\n",
       "    <tr>\n",
       "      <th>...</th>\n",
       "      <td>...</td>\n",
       "      <td>...</td>\n",
       "      <td>...</td>\n",
       "      <td>...</td>\n",
       "      <td>...</td>\n",
       "    </tr>\n",
       "    <tr>\n",
       "      <th>1853</th>\n",
       "      <td>32606341</td>\n",
       "      <td>5</td>\n",
       "      <td>1</td>\n",
       "      <td>Store_Brand</td>\n",
       "      <td>5</td>\n",
       "    </tr>\n",
       "    <tr>\n",
       "      <th>1839</th>\n",
       "      <td>32015911</td>\n",
       "      <td>5</td>\n",
       "      <td>1</td>\n",
       "      <td>Brand_4</td>\n",
       "      <td>5</td>\n",
       "    </tr>\n",
       "    <tr>\n",
       "      <th>1794</th>\n",
       "      <td>30403191</td>\n",
       "      <td>5</td>\n",
       "      <td>1</td>\n",
       "      <td>Brand_4</td>\n",
       "      <td>5</td>\n",
       "    </tr>\n",
       "    <tr>\n",
       "      <th>1789</th>\n",
       "      <td>30354881</td>\n",
       "      <td>5</td>\n",
       "      <td>1</td>\n",
       "      <td>Brand_4</td>\n",
       "      <td>5</td>\n",
       "    </tr>\n",
       "    <tr>\n",
       "      <th>3378</th>\n",
       "      <td>1408767189</td>\n",
       "      <td>5</td>\n",
       "      <td>1</td>\n",
       "      <td>Brand_4</td>\n",
       "      <td>5</td>\n",
       "    </tr>\n",
       "  </tbody>\n",
       "</table>\n",
       "<p>911 rows × 5 columns</p>\n",
       "</div>"
      ],
      "text/plain": [
       "         user_id  purchases  unique_brands lovely_brand  \\\n",
       "1315    19317282         55              1      Brand_4   \n",
       "1652    27291281         36              1      Brand_4   \n",
       "1407    20835112         27              1      Brand_4   \n",
       "2330    72232811         25              1      Brand_4   \n",
       "1937    38450591         24              1      Brand_4   \n",
       "...          ...        ...            ...          ...   \n",
       "1853    32606341          5              1  Store_Brand   \n",
       "1839    32015911          5              1      Brand_4   \n",
       "1794    30403191          5              1      Brand_4   \n",
       "1789    30354881          5              1      Brand_4   \n",
       "3378  1408767189          5              1      Brand_4   \n",
       "\n",
       "      lovely_brand_purchases  \n",
       "1315                      55  \n",
       "1652                      36  \n",
       "1407                      27  \n",
       "2330                      25  \n",
       "1937                      24  \n",
       "...                      ...  \n",
       "1853                       5  \n",
       "1839                       5  \n",
       "1794                       5  \n",
       "1789                       5  \n",
       "3378                       5  \n",
       "\n",
       "[911 rows x 5 columns]"
      ]
     },
     "execution_count": 64,
     "metadata": {},
     "output_type": "execute_result"
    }
   ],
   "source": [
    "loyal_users"
   ]
  },
  {
   "cell_type": "code",
   "execution_count": 65,
   "id": "literary-typing",
   "metadata": {
    "scrolled": true
   },
   "outputs": [
    {
     "data": {
      "text/html": [
       "<div>\n",
       "<style scoped>\n",
       "    .dataframe tbody tr th:only-of-type {\n",
       "        vertical-align: middle;\n",
       "    }\n",
       "\n",
       "    .dataframe tbody tr th {\n",
       "        vertical-align: top;\n",
       "    }\n",
       "\n",
       "    .dataframe thead th {\n",
       "        text-align: right;\n",
       "    }\n",
       "</style>\n",
       "<table border=\"1\" class=\"dataframe\">\n",
       "  <thead>\n",
       "    <tr style=\"text-align: right;\">\n",
       "      <th></th>\n",
       "      <th>user_id</th>\n",
       "      <th>purchases</th>\n",
       "      <th>unique_brands</th>\n",
       "      <th>lovely_brand</th>\n",
       "      <th>lovely_brand_purchases</th>\n",
       "    </tr>\n",
       "  </thead>\n",
       "  <tbody>\n",
       "    <tr>\n",
       "      <th>0</th>\n",
       "      <td>1031</td>\n",
       "      <td>6</td>\n",
       "      <td>2</td>\n",
       "      <td>Store_Brand</td>\n",
       "      <td>5</td>\n",
       "    </tr>\n",
       "    <tr>\n",
       "      <th>1</th>\n",
       "      <td>4241</td>\n",
       "      <td>5</td>\n",
       "      <td>2</td>\n",
       "      <td>Brand_4</td>\n",
       "      <td>3</td>\n",
       "    </tr>\n",
       "    <tr>\n",
       "      <th>2</th>\n",
       "      <td>25971</td>\n",
       "      <td>7</td>\n",
       "      <td>2</td>\n",
       "      <td>Store_Brand</td>\n",
       "      <td>5</td>\n",
       "    </tr>\n",
       "    <tr>\n",
       "      <th>3</th>\n",
       "      <td>40911</td>\n",
       "      <td>27</td>\n",
       "      <td>5</td>\n",
       "      <td>Brand_4</td>\n",
       "      <td>19</td>\n",
       "    </tr>\n",
       "    <tr>\n",
       "      <th>4</th>\n",
       "      <td>45181</td>\n",
       "      <td>5</td>\n",
       "      <td>4</td>\n",
       "      <td>Store_Brand</td>\n",
       "      <td>2</td>\n",
       "    </tr>\n",
       "    <tr>\n",
       "      <th>...</th>\n",
       "      <td>...</td>\n",
       "      <td>...</td>\n",
       "      <td>...</td>\n",
       "      <td>...</td>\n",
       "      <td>...</td>\n",
       "    </tr>\n",
       "    <tr>\n",
       "      <th>3378</th>\n",
       "      <td>1408767189</td>\n",
       "      <td>5</td>\n",
       "      <td>1</td>\n",
       "      <td>Brand_4</td>\n",
       "      <td>5</td>\n",
       "    </tr>\n",
       "    <tr>\n",
       "      <th>3379</th>\n",
       "      <td>1408783189</td>\n",
       "      <td>10</td>\n",
       "      <td>2</td>\n",
       "      <td>Store_Brand</td>\n",
       "      <td>8</td>\n",
       "    </tr>\n",
       "    <tr>\n",
       "      <th>3380</th>\n",
       "      <td>1408783379</td>\n",
       "      <td>6</td>\n",
       "      <td>2</td>\n",
       "      <td>Brand_1</td>\n",
       "      <td>4</td>\n",
       "    </tr>\n",
       "    <tr>\n",
       "      <th>3381</th>\n",
       "      <td>1408798879</td>\n",
       "      <td>8</td>\n",
       "      <td>3</td>\n",
       "      <td>Store_Brand</td>\n",
       "      <td>4</td>\n",
       "    </tr>\n",
       "    <tr>\n",
       "      <th>3382</th>\n",
       "      <td>1408810219</td>\n",
       "      <td>9</td>\n",
       "      <td>2</td>\n",
       "      <td>Brand_2</td>\n",
       "      <td>6</td>\n",
       "    </tr>\n",
       "  </tbody>\n",
       "</table>\n",
       "<p>3383 rows × 5 columns</p>\n",
       "</div>"
      ],
      "text/plain": [
       "         user_id  purchases  unique_brands lovely_brand  \\\n",
       "0           1031          6              2  Store_Brand   \n",
       "1           4241          5              2      Brand_4   \n",
       "2          25971          7              2  Store_Brand   \n",
       "3          40911         27              5      Brand_4   \n",
       "4          45181          5              4  Store_Brand   \n",
       "...          ...        ...            ...          ...   \n",
       "3378  1408767189          5              1      Brand_4   \n",
       "3379  1408783189         10              2  Store_Brand   \n",
       "3380  1408783379          6              2      Brand_1   \n",
       "3381  1408798879          8              3  Store_Brand   \n",
       "3382  1408810219          9              2      Brand_2   \n",
       "\n",
       "      lovely_brand_purchases  \n",
       "0                          5  \n",
       "1                          3  \n",
       "2                          5  \n",
       "3                         19  \n",
       "4                          2  \n",
       "...                      ...  \n",
       "3378                       5  \n",
       "3379                       8  \n",
       "3380                       4  \n",
       "3381                       4  \n",
       "3382                       6  \n",
       "\n",
       "[3383 rows x 5 columns]"
      ]
     },
     "execution_count": 65,
     "metadata": {},
     "output_type": "execute_result"
    }
   ],
   "source": [
    "loyalty_df"
   ]
  },
  {
   "cell_type": "code",
   "execution_count": 74,
   "id": "accessory-sending",
   "metadata": {},
   "outputs": [],
   "source": [
    "loyalty_df['loyalty_score'] = (loyalty_df.lovely_brand_purchases/loyalty_df.purchases).round(4)"
   ]
  },
  {
   "cell_type": "code",
   "execution_count": 75,
   "id": "binary-while",
   "metadata": {},
   "outputs": [
    {
     "data": {
      "text/html": [
       "<div>\n",
       "<style scoped>\n",
       "    .dataframe tbody tr th:only-of-type {\n",
       "        vertical-align: middle;\n",
       "    }\n",
       "\n",
       "    .dataframe tbody tr th {\n",
       "        vertical-align: top;\n",
       "    }\n",
       "\n",
       "    .dataframe thead th {\n",
       "        text-align: right;\n",
       "    }\n",
       "</style>\n",
       "<table border=\"1\" class=\"dataframe\">\n",
       "  <thead>\n",
       "    <tr style=\"text-align: right;\">\n",
       "      <th></th>\n",
       "      <th>user_id</th>\n",
       "      <th>purchases</th>\n",
       "      <th>unique_brands</th>\n",
       "      <th>lovely_brand</th>\n",
       "      <th>lovely_brand_purchases</th>\n",
       "      <th>loyalty_score</th>\n",
       "    </tr>\n",
       "  </thead>\n",
       "  <tbody>\n",
       "    <tr>\n",
       "      <th>0</th>\n",
       "      <td>1031</td>\n",
       "      <td>6</td>\n",
       "      <td>2</td>\n",
       "      <td>Store_Brand</td>\n",
       "      <td>5</td>\n",
       "      <td>0.8333</td>\n",
       "    </tr>\n",
       "    <tr>\n",
       "      <th>1</th>\n",
       "      <td>4241</td>\n",
       "      <td>5</td>\n",
       "      <td>2</td>\n",
       "      <td>Brand_4</td>\n",
       "      <td>3</td>\n",
       "      <td>0.6000</td>\n",
       "    </tr>\n",
       "    <tr>\n",
       "      <th>2</th>\n",
       "      <td>25971</td>\n",
       "      <td>7</td>\n",
       "      <td>2</td>\n",
       "      <td>Store_Brand</td>\n",
       "      <td>5</td>\n",
       "      <td>0.7143</td>\n",
       "    </tr>\n",
       "    <tr>\n",
       "      <th>3</th>\n",
       "      <td>40911</td>\n",
       "      <td>27</td>\n",
       "      <td>5</td>\n",
       "      <td>Brand_4</td>\n",
       "      <td>19</td>\n",
       "      <td>0.7037</td>\n",
       "    </tr>\n",
       "    <tr>\n",
       "      <th>4</th>\n",
       "      <td>45181</td>\n",
       "      <td>5</td>\n",
       "      <td>4</td>\n",
       "      <td>Store_Brand</td>\n",
       "      <td>2</td>\n",
       "      <td>0.4000</td>\n",
       "    </tr>\n",
       "    <tr>\n",
       "      <th>...</th>\n",
       "      <td>...</td>\n",
       "      <td>...</td>\n",
       "      <td>...</td>\n",
       "      <td>...</td>\n",
       "      <td>...</td>\n",
       "      <td>...</td>\n",
       "    </tr>\n",
       "    <tr>\n",
       "      <th>3378</th>\n",
       "      <td>1408767189</td>\n",
       "      <td>5</td>\n",
       "      <td>1</td>\n",
       "      <td>Brand_4</td>\n",
       "      <td>5</td>\n",
       "      <td>1.0000</td>\n",
       "    </tr>\n",
       "    <tr>\n",
       "      <th>3379</th>\n",
       "      <td>1408783189</td>\n",
       "      <td>10</td>\n",
       "      <td>2</td>\n",
       "      <td>Store_Brand</td>\n",
       "      <td>8</td>\n",
       "      <td>0.8000</td>\n",
       "    </tr>\n",
       "    <tr>\n",
       "      <th>3380</th>\n",
       "      <td>1408783379</td>\n",
       "      <td>6</td>\n",
       "      <td>2</td>\n",
       "      <td>Brand_1</td>\n",
       "      <td>4</td>\n",
       "      <td>0.6667</td>\n",
       "    </tr>\n",
       "    <tr>\n",
       "      <th>3381</th>\n",
       "      <td>1408798879</td>\n",
       "      <td>8</td>\n",
       "      <td>3</td>\n",
       "      <td>Store_Brand</td>\n",
       "      <td>4</td>\n",
       "      <td>0.5000</td>\n",
       "    </tr>\n",
       "    <tr>\n",
       "      <th>3382</th>\n",
       "      <td>1408810219</td>\n",
       "      <td>9</td>\n",
       "      <td>2</td>\n",
       "      <td>Brand_2</td>\n",
       "      <td>6</td>\n",
       "      <td>0.6667</td>\n",
       "    </tr>\n",
       "  </tbody>\n",
       "</table>\n",
       "<p>3383 rows × 6 columns</p>\n",
       "</div>"
      ],
      "text/plain": [
       "         user_id  purchases  unique_brands lovely_brand  \\\n",
       "0           1031          6              2  Store_Brand   \n",
       "1           4241          5              2      Brand_4   \n",
       "2          25971          7              2  Store_Brand   \n",
       "3          40911         27              5      Brand_4   \n",
       "4          45181          5              4  Store_Brand   \n",
       "...          ...        ...            ...          ...   \n",
       "3378  1408767189          5              1      Brand_4   \n",
       "3379  1408783189         10              2  Store_Brand   \n",
       "3380  1408783379          6              2      Brand_1   \n",
       "3381  1408798879          8              3  Store_Brand   \n",
       "3382  1408810219          9              2      Brand_2   \n",
       "\n",
       "      lovely_brand_purchases  loyalty_score  \n",
       "0                          5         0.8333  \n",
       "1                          3         0.6000  \n",
       "2                          5         0.7143  \n",
       "3                         19         0.7037  \n",
       "4                          2         0.4000  \n",
       "...                      ...            ...  \n",
       "3378                       5         1.0000  \n",
       "3379                       8         0.8000  \n",
       "3380                       4         0.6667  \n",
       "3381                       4         0.5000  \n",
       "3382                       6         0.6667  \n",
       "\n",
       "[3383 rows x 6 columns]"
      ]
     },
     "execution_count": 75,
     "metadata": {},
     "output_type": "execute_result"
    }
   ],
   "source": [
    "loyalty_df"
   ]
  },
  {
   "cell_type": "code",
   "execution_count": 84,
   "id": "exceptional-prefix",
   "metadata": {},
   "outputs": [
    {
     "data": {
      "image/png": "[encoded data removed]",
      "text/plain": [
       "<Figure size 360x360 with 1 Axes>"
      ]
     },
     "metadata": {
      "needs_background": "light"
     },
     "output_type": "display_data"
    }
   ],
   "source": [
    "ax = sns.displot(loyalty_df.loyalty_score, kde=False)"
   ]
  },
  {
   "cell_type": "code",
   "execution_count": 86,
   "id": "elect-summary",
   "metadata": {},
   "outputs": [
    {
     "data": {
      "text/plain": [
       "0.8"
      ]
     },
     "execution_count": 86,
     "metadata": {},
     "output_type": "execute_result"
    }
   ],
   "source": [
    "loyalty_df.loyalty_score.median()"
   ]
  },
  {
   "cell_type": "code",
   "execution_count": 87,
   "id": "initial-halifax",
   "metadata": {},
   "outputs": [
    {
     "data": {
      "text/plain": [
       "0.7593572568725983"
      ]
     },
     "execution_count": 87,
     "metadata": {},
     "output_type": "execute_result"
    }
   ],
   "source": [
    "loyalty_df.loyalty_score.mean()"
   ]
  },
  {
   "cell_type": "code",
   "execution_count": 108,
   "id": "official-orange",
   "metadata": {},
   "outputs": [],
   "source": [
    "brands_loyalty = loyalty_df.groupby('lovely_brand', as_index=False) \\\n",
    "    .agg({'loyalty_score':'median', 'user_id':'count'}) \\\n",
    "    .rename(columns={'user_id':'purchases_brands_loyalty'}) \\\n",
    "    .sort_values(['loyalty_score', 'purchases_brands_loyalty'], ascending=[False, False])"
   ]
  },
  {
   "cell_type": "code",
   "execution_count": 109,
   "id": "blank-hello",
   "metadata": {},
   "outputs": [
    {
     "data": {
      "text/html": [
       "<div>\n",
       "<style scoped>\n",
       "    .dataframe tbody tr th:only-of-type {\n",
       "        vertical-align: middle;\n",
       "    }\n",
       "\n",
       "    .dataframe tbody tr th {\n",
       "        vertical-align: top;\n",
       "    }\n",
       "\n",
       "    .dataframe thead th {\n",
       "        text-align: right;\n",
       "    }\n",
       "</style>\n",
       "<table border=\"1\" class=\"dataframe\">\n",
       "  <thead>\n",
       "    <tr style=\"text-align: right;\">\n",
       "      <th></th>\n",
       "      <th>lovely_brand</th>\n",
       "      <th>loyalty_score</th>\n",
       "      <th>purchases_brands_loyalty</th>\n",
       "    </tr>\n",
       "  </thead>\n",
       "  <tbody>\n",
       "    <tr>\n",
       "      <th>3</th>\n",
       "      <td>Brand_4</td>\n",
       "      <td>0.8182</td>\n",
       "      <td>2041</td>\n",
       "    </tr>\n",
       "    <tr>\n",
       "      <th>6</th>\n",
       "      <td>Store_Brand</td>\n",
       "      <td>0.7500</td>\n",
       "      <td>715</td>\n",
       "    </tr>\n",
       "    <tr>\n",
       "      <th>0</th>\n",
       "      <td>Brand_1</td>\n",
       "      <td>0.6795</td>\n",
       "      <td>410</td>\n",
       "    </tr>\n",
       "    <tr>\n",
       "      <th>1</th>\n",
       "      <td>Brand_2</td>\n",
       "      <td>0.6000</td>\n",
       "      <td>88</td>\n",
       "    </tr>\n",
       "    <tr>\n",
       "      <th>4</th>\n",
       "      <td>Brand_5</td>\n",
       "      <td>0.6000</td>\n",
       "      <td>5</td>\n",
       "    </tr>\n",
       "    <tr>\n",
       "      <th>2</th>\n",
       "      <td>Brand_3</td>\n",
       "      <td>0.5000</td>\n",
       "      <td>115</td>\n",
       "    </tr>\n",
       "    <tr>\n",
       "      <th>5</th>\n",
       "      <td>Brand_7</td>\n",
       "      <td>0.4444</td>\n",
       "      <td>9</td>\n",
       "    </tr>\n",
       "  </tbody>\n",
       "</table>\n",
       "</div>"
      ],
      "text/plain": [
       "  lovely_brand  loyalty_score  purchases_brands_loyalty\n",
       "3      Brand_4         0.8182                      2041\n",
       "6  Store_Brand         0.7500                       715\n",
       "0      Brand_1         0.6795                       410\n",
       "1      Brand_2         0.6000                        88\n",
       "4      Brand_5         0.6000                         5\n",
       "2      Brand_3         0.5000                       115\n",
       "5      Brand_7         0.4444                         9"
      ]
     },
     "execution_count": 109,
     "metadata": {},
     "output_type": "execute_result"
    }
   ],
   "source": [
    "brands_loyalty"
   ]
  },
  {
   "cell_type": "code",
   "execution_count": 110,
   "id": "further-cricket",
   "metadata": {},
   "outputs": [
    {
     "data": {
      "image/png": "[encoded data removed]",
      "text/plain": [
       "<Figure size 432x288 with 1 Axes>"
      ]
     },
     "metadata": {
      "needs_background": "light"
     },
     "output_type": "display_data"
    }
   ],
   "source": [
    "ax = sns.barplot(x='lovely_brand', y='loyalty_score', data=brands_loyalty)"
   ]
  },
  {
   "cell_type": "code",
   "execution_count": 111,
   "id": "final-stranger",
   "metadata": {},
   "outputs": [
    {
     "data": {
      "image/png": "[encoded data removed]",
      "text/plain": [
       "<Figure size 432x288 with 1 Axes>"
      ]
     },
     "metadata": {
      "needs_background": "light"
     },
     "output_type": "display_data"
    }
   ],
   "source": [
    "ax = sns.barplot(x='lovely_brand', y='purchases_brands_loyalty', data=brands_loyalty)"
   ]
  },
  {
   "cell_type": "code",
   "execution_count": null,
   "id": "focused-finland",
   "metadata": {},
   "outputs": [],
   "source": []
  }
 ],
 "metadata": {
  "kernelspec": {
   "display_name": "Python 3",
   "language": "python",
   "name": "python3"
  },
  "language_info": {
   "codemirror_mode": {
    "name": "ipython",
    "version": 3
   },
   "file_extension": ".py",
   "mimetype": "text/x-python",
   "name": "python",
   "nbconvert_exporter": "python",
   "pygments_lexer": "ipython3",
   "version": "3.9.1"
  }
 },
 "nbformat": 4,
 "nbformat_minor": 5
}
